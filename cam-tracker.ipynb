{
 "cells": [
  {
   "cell_type": "code",
   "execution_count": 1,
   "id": "fc80b5c1",
   "metadata": {
    "execution": {
     "iopub.execute_input": "2024-07-04T07:42:11.012532Z",
     "iopub.status.busy": "2024-07-04T07:42:11.011848Z",
     "iopub.status.idle": "2024-07-04T07:45:03.253250Z",
     "shell.execute_reply": "2024-07-04T07:45:03.252359Z"
    },
    "id": "kGz80aezynmg",
    "outputId": "a1dda023-f464-4098-8e4f-096d1d748b7b",
    "papermill": {
     "duration": 172.25087,
     "end_time": "2024-07-04T07:45:03.255476",
     "exception": false,
     "start_time": "2024-07-04T07:42:11.004606",
     "status": "completed"
    },
    "tags": []
   },
   "outputs": [
    {
     "name": "stdout",
     "output_type": "stream",
     "text": [
      "--2024-07-04 07:42:11--  https://motchallenge.net/data/MOT17.zip\r\n",
      "Resolving motchallenge.net (motchallenge.net)... 131.159.19.34, 2a09:80c0:18::1034\r\n",
      "Connecting to motchallenge.net (motchallenge.net)|131.159.19.34|:443... connected.\r\n",
      "HTTP request sent, awaiting response... 200 OK\r\n",
      "Length: 5860214001 (5.5G) [application/zip]\r\n",
      "Saving to: 'MOT17.zip'\r\n",
      "\r\n",
      "MOT17.zip           100%[===================>]   5.46G  30.3MB/s    in 2m 51s  \r\n",
      "\r\n",
      "2024-07-04 07:45:03 (32.7 MB/s) - 'MOT17.zip' saved [5860214001/5860214001]\r\n",
      "\r\n"
     ]
    }
   ],
   "source": [
    "!wget https://motchallenge.net/data/MOT17.zip\n"
   ]
  },
  {
   "cell_type": "code",
   "execution_count": null,
   "id": "2b5b0b12",
   "metadata": {
    "id": "s9wZvcA-_gxm",
    "papermill": {
     "duration": 0.069225,
     "end_time": "2024-07-04T07:45:03.394555",
     "exception": false,
     "start_time": "2024-07-04T07:45:03.325330",
     "status": "completed"
    },
    "tags": []
   },
   "outputs": [],
   "source": []
  },
  {
   "cell_type": "code",
   "execution_count": 2,
   "id": "f86be98d",
   "metadata": {
    "execution": {
     "iopub.execute_input": "2024-07-04T07:45:03.535991Z",
     "iopub.status.busy": "2024-07-04T07:45:03.535635Z",
     "iopub.status.idle": "2024-07-04T07:46:00.040871Z",
     "shell.execute_reply": "2024-07-04T07:46:00.039597Z"
    },
    "id": "CG4uvqCC5BCS",
    "papermill": {
     "duration": 56.577792,
     "end_time": "2024-07-04T07:46:00.043528",
     "exception": false,
     "start_time": "2024-07-04T07:45:03.465736",
     "status": "completed"
    },
    "tags": []
   },
   "outputs": [],
   "source": [
    "!unzip -qq MOT17.zip"
   ]
  },
  {
   "cell_type": "code",
   "execution_count": 3,
   "id": "1a0c3122",
   "metadata": {
    "execution": {
     "iopub.execute_input": "2024-07-04T07:46:02.761125Z",
     "iopub.status.busy": "2024-07-04T07:46:02.760622Z",
     "iopub.status.idle": "2024-07-04T07:46:02.766803Z",
     "shell.execute_reply": "2024-07-04T07:46:02.765608Z"
    },
    "id": "fnfDilb9_1Zk",
    "papermill": {
     "duration": 0.363643,
     "end_time": "2024-07-04T07:46:02.769978",
     "exception": false,
     "start_time": "2024-07-04T07:46:02.406335",
     "status": "completed"
    },
    "tags": []
   },
   "outputs": [],
   "source": [
    "import os\n",
    "import shutil"
   ]
  },
  {
   "cell_type": "code",
   "execution_count": 4,
   "id": "ff4505d9",
   "metadata": {
    "execution": {
     "iopub.execute_input": "2024-07-04T07:46:03.013904Z",
     "iopub.status.busy": "2024-07-04T07:46:03.013075Z",
     "iopub.status.idle": "2024-07-04T07:46:03.017205Z",
     "shell.execute_reply": "2024-07-04T07:46:03.016373Z"
    },
    "id": "A9D47ExRC5m4",
    "papermill": {
     "duration": 0.083414,
     "end_time": "2024-07-04T07:46:03.019171",
     "exception": false,
     "start_time": "2024-07-04T07:46:02.935757",
     "status": "completed"
    },
    "tags": []
   },
   "outputs": [],
   "source": [
    "testdir = 'MOT17/test'\n",
    "traindir = 'MOT17/train'\n"
   ]
  },
  {
   "cell_type": "code",
   "execution_count": 5,
   "id": "af637956",
   "metadata": {
    "execution": {
     "iopub.execute_input": "2024-07-04T07:46:03.166593Z",
     "iopub.status.busy": "2024-07-04T07:46:03.165647Z",
     "iopub.status.idle": "2024-07-04T07:46:04.231991Z",
     "shell.execute_reply": "2024-07-04T07:46:04.230166Z"
    },
    "id": "MZ0Q0b9eB8yT",
    "papermill": {
     "duration": 1.143787,
     "end_time": "2024-07-04T07:46:04.234651",
     "exception": false,
     "start_time": "2024-07-04T07:46:03.090864",
     "status": "completed"
    },
    "tags": []
   },
   "outputs": [],
   "source": [
    "!cd ..\n",
    "os.makedirs('MOT17/test/labels', exist_ok=True)\n",
    "os.makedirs('MOT17/test/images', exist_ok=True)"
   ]
  },
  {
   "cell_type": "code",
   "execution_count": 6,
   "id": "2a36fb6d",
   "metadata": {
    "execution": {
     "iopub.execute_input": "2024-07-04T07:46:04.384458Z",
     "iopub.status.busy": "2024-07-04T07:46:04.383498Z",
     "iopub.status.idle": "2024-07-04T07:46:05.195225Z",
     "shell.execute_reply": "2024-07-04T07:46:05.194407Z"
    },
    "id": "YXNNAZKcA8kP",
    "papermill": {
     "duration": 0.889654,
     "end_time": "2024-07-04T07:46:05.197530",
     "exception": false,
     "start_time": "2024-07-04T07:46:04.307876",
     "status": "completed"
    },
    "tags": []
   },
   "outputs": [],
   "source": [
    "import pandas as pd\n",
    "import os\n",
    "import yaml\n",
    "import shutil\n",
    "import configparser\n",
    "\n",
    "from tqdm import tqdm"
   ]
  },
  {
   "cell_type": "code",
   "execution_count": 7,
   "id": "b49763f8",
   "metadata": {
    "execution": {
     "iopub.execute_input": "2024-07-04T07:46:05.341527Z",
     "iopub.status.busy": "2024-07-04T07:46:05.340742Z",
     "iopub.status.idle": "2024-07-04T07:46:05.347909Z",
     "shell.execute_reply": "2024-07-04T07:46:05.346960Z"
    },
    "id": "H8rDS4U4FxKK",
    "papermill": {
     "duration": 0.081746,
     "end_time": "2024-07-04T07:46:05.349834",
     "exception": false,
     "start_time": "2024-07-04T07:46:05.268088",
     "status": "completed"
    },
    "tags": []
   },
   "outputs": [],
   "source": [
    "def convert_to_yolo_format(bb, img_w, img_h):\n",
    "    x_center = bb['bb_left'] + (bb['bb_width'] / 2)\n",
    "    y_center = bb['bb_top'] + (bb['bb_height'] / 2) \n",
    "    \n",
    "    x_center /= img_w\n",
    "    y_center /= img_h\n",
    "\n",
    "    bb_width_normalized = bb['bb_width'] / img_w\n",
    "    bb_height_normalized = bb['bb_height'] / img_h\n",
    "\n",
    "    x_center = max(min(x_center, 1.0), 0.0)\n",
    "    y_center = max(min(y_center, 1.0), 0.0)\n",
    "\n",
    "    bb_width_normalized = max(min(bb_width_normalized, 1.0), 0.0)\n",
    "    bb_height_normalized = max(min(bb_height_normalized, 1.0), 0.0)\n",
    "\n",
    "    return x_center, y_center, bb_width_normalized, bb_height_normalized"
   ]
  },
  {
   "cell_type": "code",
   "execution_count": 8,
   "id": "a78e280c",
   "metadata": {
    "execution": {
     "iopub.execute_input": "2024-07-04T07:46:05.494507Z",
     "iopub.status.busy": "2024-07-04T07:46:05.493974Z",
     "iopub.status.idle": "2024-07-04T07:46:05.503275Z",
     "shell.execute_reply": "2024-07-04T07:46:05.502286Z"
    },
    "id": "olbI0-q0HmyP",
    "papermill": {
     "duration": 0.084285,
     "end_time": "2024-07-04T07:46:05.505424",
     "exception": false,
     "start_time": "2024-07-04T07:46:05.421139",
     "status": "completed"
    },
    "tags": []
   },
   "outputs": [],
   "source": [
    "def process_folder(folder_path):\n",
    "    config = configparser.ConfigParser()\n",
    "    config.read(os.path.join(folder_path, 'seqinfo.ini'))\n",
    "    img_w = int(config['Sequence']['imWidth'])\n",
    "    img_h = int(config['Sequence']['imHeight'])\n",
    "\n",
    "    gt_path = os.path.join(folder_path, 'det/det.txt')\n",
    "    gt_data = pd.read_csv(gt_path, sep=',', header=None,\n",
    "                          names=['frame', 'id', 'bb_left', 'bb_top', 'bb_width', 'bb_height', 'conf', 'class', 'visibility'])\n",
    "\n",
    "    labels_path = os.path.join(folder_path, 'labels')\n",
    "    os.makedirs(labels_path, exist_ok=True)\n",
    "\n",
    "    images_path = os.path.join(folder_path, 'images')\n",
    "    os.makedirs(images_path, exist_ok=True)\n",
    "\n",
    "    for frame_number in gt_data['frame'].unique():\n",
    "        frame_data = gt_data[gt_data['frame'] == frame_number]\n",
    "        label_file = os.path.join(labels_path, f'{frame_number:06d}.txt')\n",
    "\n",
    "        with open(label_file, 'w') as f:\n",
    "            for _, row in frame_data.iterrows():\n",
    "                yolo_bb = convert_to_yolo_format(row, img_w, img_h)\n",
    "                f.write(f'0 {yolo_bb[0]} {yolo_bb[1]} {yolo_bb[2]} {yolo_bb[3]}\\n')"
   ]
  },
  {
   "cell_type": "code",
   "execution_count": 9,
   "id": "61bf2772",
   "metadata": {
    "execution": {
     "iopub.execute_input": "2024-07-04T07:46:05.649585Z",
     "iopub.status.busy": "2024-07-04T07:46:05.649268Z",
     "iopub.status.idle": "2024-07-04T07:46:05.655019Z",
     "shell.execute_reply": "2024-07-04T07:46:05.654100Z"
    },
    "id": "NSAx9RKgL7K8",
    "papermill": {
     "duration": 0.080382,
     "end_time": "2024-07-04T07:46:05.657200",
     "exception": false,
     "start_time": "2024-07-04T07:46:05.576818",
     "status": "completed"
    },
    "tags": []
   },
   "outputs": [],
   "source": [
    "def process_all_folders(base_dir):\n",
    "    for folder_name in tqdm(os.listdir(base_dir)):\n",
    "        folder_path = os.path.join(base_dir, folder_name)\n",
    "\n",
    "        if 'FRCNN' not in folder_name:\n",
    "            os.system(f'rm -rf {folder_path}')\n",
    "            continue\n",
    "\n",
    "        if os.path.isdir(folder_path):\n",
    "            process_folder(folder_path)\n",
    "\n"
   ]
  },
  {
   "cell_type": "code",
   "execution_count": 10,
   "id": "2883af6b",
   "metadata": {
    "collapsed": true,
    "execution": {
     "iopub.execute_input": "2024-07-04T07:46:05.816744Z",
     "iopub.status.busy": "2024-07-04T07:46:05.815742Z",
     "iopub.status.idle": "2024-07-04T07:46:29.557672Z",
     "shell.execute_reply": "2024-07-04T07:46:29.556623Z"
    },
    "id": "tiWHe3kKMY44",
    "jupyter": {
     "outputs_hidden": true
    },
    "outputId": "fb71b7df-02ca-48ce-d4e5-2c2316f5ed54",
    "papermill": {
     "duration": 23.827073,
     "end_time": "2024-07-04T07:46:29.559899",
     "exception": false,
     "start_time": "2024-07-04T07:46:05.732826",
     "status": "completed"
    },
    "tags": []
   },
   "outputs": [
    {
     "name": "stderr",
     "output_type": "stream",
     "text": [
      "100%|██████████| 21/21 [00:09<00:00,  2.11it/s]\n",
      "100%|██████████| 23/23 [00:13<00:00,  1.67it/s]\n"
     ]
    }
   ],
   "source": [
    "process_all_folders('MOT17/train')\n",
    "process_all_folders('MOT17/test')"
   ]
  },
  {
   "cell_type": "code",
   "execution_count": 11,
   "id": "518172ef",
   "metadata": {
    "execution": {
     "iopub.execute_input": "2024-07-04T07:46:29.710673Z",
     "iopub.status.busy": "2024-07-04T07:46:29.709870Z",
     "iopub.status.idle": "2024-07-04T07:46:29.715669Z",
     "shell.execute_reply": "2024-07-04T07:46:29.714724Z"
    },
    "id": "aW-FlJmpQVbk",
    "papermill": {
     "duration": 0.084551,
     "end_time": "2024-07-04T07:46:29.717551",
     "exception": false,
     "start_time": "2024-07-04T07:46:29.633000",
     "status": "completed"
    },
    "tags": []
   },
   "outputs": [],
   "source": [
    "def rename_and_move_files(src_folder, dst_folder,\n",
    "                          folder_name, file_extension):\n",
    "    for filename in os.listdir(src_folder):\n",
    "        if filename.endswith(file_extension):\n",
    "            new_filename = f'{folder_name}_{filename}'\n",
    "            shutil.move(os.path.join(src_folder, filename),\n",
    "                        os.path.join(dst_folder, new_filename))"
   ]
  },
  {
   "cell_type": "code",
   "execution_count": 12,
   "id": "36673dac",
   "metadata": {
    "execution": {
     "iopub.execute_input": "2024-07-04T07:46:29.867090Z",
     "iopub.status.busy": "2024-07-04T07:46:29.866759Z",
     "iopub.status.idle": "2024-07-04T07:46:29.873550Z",
     "shell.execute_reply": "2024-07-04T07:46:29.872638Z"
    },
    "id": "6BwYZtl7QvzA",
    "papermill": {
     "duration": 0.082997,
     "end_time": "2024-07-04T07:46:29.875791",
     "exception": false,
     "start_time": "2024-07-04T07:46:29.792794",
     "status": "completed"
    },
    "tags": []
   },
   "outputs": [],
   "source": [
    "def move_files_all_folders(base_dir):\n",
    "    image_dir = os.path.join(base_dir, 'images')\n",
    "    label_dir = os.path.join(base_dir, 'labels')\n",
    "    os.makedirs(image_dir, exist_ok=True)\n",
    "    os.makedirs(label_dir, exist_ok=True)\n",
    "\n",
    "    for folder_name in tqdm(os.listdir(base_dir)):\n",
    "        if folder_name in ['images', 'labels']:\n",
    "            continue\n",
    "\n",
    "        folder_path = os.path.join(base_dir, folder_name)\n",
    "        if os.path.isdir(folder_path):\n",
    "            rename_and_move_files(os.path.join(folder_path, 'img1'),\n",
    "                                  image_dir, folder_name, '.jpg')\n",
    "            rename_and_move_files(os.path.join(folder_path, 'labels'),\n",
    "                                  label_dir, folder_name, '.txt')\n",
    "\n"
   ]
  },
  {
   "cell_type": "code",
   "execution_count": 13,
   "id": "00e1662f",
   "metadata": {
    "execution": {
     "iopub.execute_input": "2024-07-04T07:46:30.025383Z",
     "iopub.status.busy": "2024-07-04T07:46:30.024989Z",
     "iopub.status.idle": "2024-07-04T07:46:30.789469Z",
     "shell.execute_reply": "2024-07-04T07:46:30.788457Z"
    },
    "id": "b4uy7gggSEyl",
    "outputId": "ea52d7ac-a05c-4947-f277-6f12eb9268e4",
    "papermill": {
     "duration": 0.842548,
     "end_time": "2024-07-04T07:46:30.791489",
     "exception": false,
     "start_time": "2024-07-04T07:46:29.948941",
     "status": "completed"
    },
    "tags": []
   },
   "outputs": [
    {
     "name": "stderr",
     "output_type": "stream",
     "text": [
      "100%|██████████| 9/9 [00:00<00:00, 25.46it/s]\n",
      "100%|██████████| 9/9 [00:00<00:00, 22.52it/s]\n"
     ]
    }
   ],
   "source": [
    "move_files_all_folders('MOT17/train')\n",
    "move_files_all_folders('MOT17/test')\n"
   ]
  },
  {
   "cell_type": "code",
   "execution_count": 14,
   "id": "302c9e0b",
   "metadata": {
    "execution": {
     "iopub.execute_input": "2024-07-04T07:46:30.941330Z",
     "iopub.status.busy": "2024-07-04T07:46:30.941013Z",
     "iopub.status.idle": "2024-07-04T07:46:30.946987Z",
     "shell.execute_reply": "2024-07-04T07:46:30.946068Z"
    },
    "id": "tEGMIEMPRmMf",
    "papermill": {
     "duration": 0.08302,
     "end_time": "2024-07-04T07:46:30.949064",
     "exception": false,
     "start_time": "2024-07-04T07:46:30.866044",
     "status": "completed"
    },
    "tags": []
   },
   "outputs": [],
   "source": [
    "def delete_subfolders(base_dir):\n",
    "    for folder_name in tqdm(os.listdir(base_dir)):\n",
    "        folder_path = os.path.join(base_dir, folder_name)\n",
    "        if os.path.isdir(folder_path) and folder_name not in ['images', 'labels']:\n",
    "            shutil.rmtree(folder_path)\n",
    "            print(f\"Deleted folder: {folder_name}\")"
   ]
  },
  {
   "cell_type": "code",
   "execution_count": 15,
   "id": "6f51b0b0",
   "metadata": {
    "collapsed": true,
    "execution": {
     "iopub.execute_input": "2024-07-04T07:46:31.100816Z",
     "iopub.status.busy": "2024-07-04T07:46:31.100490Z",
     "iopub.status.idle": "2024-07-04T07:46:31.122228Z",
     "shell.execute_reply": "2024-07-04T07:46:31.121280Z"
    },
    "id": "jgOeospiR3b_",
    "jupyter": {
     "outputs_hidden": true
    },
    "outputId": "4499f567-9922-48ad-b22b-9e72bd587efd",
    "papermill": {
     "duration": 0.10034,
     "end_time": "2024-07-04T07:46:31.124467",
     "exception": false,
     "start_time": "2024-07-04T07:46:31.024127",
     "status": "completed"
    },
    "tags": []
   },
   "outputs": [
    {
     "name": "stderr",
     "output_type": "stream",
     "text": [
      "100%|██████████| 9/9 [00:00<00:00, 1519.00it/s]\n"
     ]
    },
    {
     "name": "stdout",
     "output_type": "stream",
     "text": [
      "Deleted folder: MOT17-02-FRCNN\n",
      "Deleted folder: MOT17-11-FRCNN\n",
      "Deleted folder: MOT17-13-FRCNN\n",
      "Deleted folder: MOT17-09-FRCNN\n",
      "Deleted folder: MOT17-10-FRCNN\n",
      "Deleted folder: MOT17-05-FRCNN\n",
      "Deleted folder: MOT17-04-FRCNN\n"
     ]
    },
    {
     "name": "stderr",
     "output_type": "stream",
     "text": [
      "100%|██████████| 9/9 [00:00<00:00, 1660.89it/s]"
     ]
    },
    {
     "name": "stdout",
     "output_type": "stream",
     "text": [
      "Deleted folder: MOT17-01-FRCNN\n",
      "Deleted folder: MOT17-12-FRCNN\n",
      "Deleted folder: MOT17-08-FRCNN\n",
      "Deleted folder: MOT17-06-FRCNN\n",
      "Deleted folder: MOT17-07-FRCNN\n",
      "Deleted folder: MOT17-03-FRCNN\n",
      "Deleted folder: MOT17-14-FRCNN\n"
     ]
    },
    {
     "name": "stderr",
     "output_type": "stream",
     "text": [
      "\n"
     ]
    }
   ],
   "source": [
    "delete_subfolders('MOT17/train')\n",
    "delete_subfolders('MOT17/test')"
   ]
  },
  {
   "cell_type": "code",
   "execution_count": 16,
   "id": "27df4276",
   "metadata": {
    "execution": {
     "iopub.execute_input": "2024-07-04T07:46:31.276133Z",
     "iopub.status.busy": "2024-07-04T07:46:31.275779Z",
     "iopub.status.idle": "2024-07-04T07:46:31.282492Z",
     "shell.execute_reply": "2024-07-04T07:46:31.281643Z"
    },
    "id": "3RhlZ_gWSwMX",
    "papermill": {
     "duration": 0.085894,
     "end_time": "2024-07-04T07:46:31.284726",
     "exception": false,
     "start_time": "2024-07-04T07:46:31.198832",
     "status": "completed"
    },
    "tags": []
   },
   "outputs": [],
   "source": [
    "class_labels = ['object']\n",
    "dataset_root_dir = os.path.join(os.getcwd(), 'MOT17')\n",
    "yolo_yaml_path = os.path.join(dataset_root_dir, 'mot17_data.yaml')\n",
    "data_yaml = {\n",
    "    'path' : dataset_root_dir,\n",
    "    'train' : 'train/images',\n",
    "    'val' : 'test/images',\n",
    "    'nc' : len(class_labels),\n",
    "    'names' : class_labels\n",
    "}\n",
    "\n",
    "with open(yolo_yaml_path, 'w') as f:\n",
    "    yaml.dump(data_yaml, f, default_flow_style=False)"
   ]
  },
  {
   "cell_type": "code",
   "execution_count": 17,
   "id": "0903c308",
   "metadata": {
    "execution": {
     "iopub.execute_input": "2024-07-04T07:46:31.435616Z",
     "iopub.status.busy": "2024-07-04T07:46:31.435249Z",
     "iopub.status.idle": "2024-07-04T07:47:04.196861Z",
     "shell.execute_reply": "2024-07-04T07:47:04.195810Z"
    },
    "id": "cg7sX6R7TWtD",
    "outputId": "3241d7b5-339b-4f7f-a4ba-4be81463de14",
    "papermill": {
     "duration": 32.83896,
     "end_time": "2024-07-04T07:47:04.199093",
     "exception": false,
     "start_time": "2024-07-04T07:46:31.360133",
     "status": "completed"
    },
    "tags": []
   },
   "outputs": [
    {
     "name": "stdout",
     "output_type": "stream",
     "text": [
      "Ultralytics YOLOv8.2.48 🚀 Python-3.10.13 torch-2.1.2 CUDA:0 (Tesla T4, 15095MiB)\n",
      "Setup complete ✅ (4 CPUs, 31.4 GB RAM, 5689.3/8062.4 GB disk)\n"
     ]
    }
   ],
   "source": [
    "!pip install ultralytics -q\n",
    "\n",
    "import ultralytics\n",
    "ultralytics.checks()"
   ]
  },
  {
   "cell_type": "code",
   "execution_count": 18,
   "id": "59ebc234",
   "metadata": {
    "execution": {
     "iopub.execute_input": "2024-07-04T07:47:04.352034Z",
     "iopub.status.busy": "2024-07-04T07:47:04.351127Z",
     "iopub.status.idle": "2024-07-04T07:47:04.355542Z",
     "shell.execute_reply": "2024-07-04T07:47:04.354663Z"
    },
    "id": "97VdJC63U0j2",
    "papermill": {
     "duration": 0.082631,
     "end_time": "2024-07-04T07:47:04.357618",
     "exception": false,
     "start_time": "2024-07-04T07:47:04.274987",
     "status": "completed"
    },
    "tags": []
   },
   "outputs": [],
   "source": [
    "from ultralytics import YOLO"
   ]
  },
  {
   "cell_type": "code",
   "execution_count": 19,
   "id": "1d00d81a",
   "metadata": {
    "execution": {
     "iopub.execute_input": "2024-07-04T07:47:04.509642Z",
     "iopub.status.busy": "2024-07-04T07:47:04.509299Z",
     "iopub.status.idle": "2024-07-04T08:45:25.473906Z",
     "shell.execute_reply": "2024-07-04T08:45:25.472970Z"
    },
    "id": "UCF7Rf8LU3mU",
    "outputId": "a09528e9-2034-4e2f-9bca-b7b82bfba9f9",
    "papermill": {
     "duration": 3501.043108,
     "end_time": "2024-07-04T08:45:25.476477",
     "exception": false,
     "start_time": "2024-07-04T07:47:04.433369",
     "status": "completed"
    },
    "tags": []
   },
   "outputs": [
    {
     "name": "stdout",
     "output_type": "stream",
     "text": [
      "Downloading https://github.com/ultralytics/assets/releases/download/v8.2.0/yolov8n.pt to 'yolov8n.pt'...\n"
     ]
    },
    {
     "name": "stderr",
     "output_type": "stream",
     "text": [
      "100%|██████████| 6.25M/6.25M [00:00<00:00, 167MB/s]"
     ]
    },
    {
     "name": "stdout",
     "output_type": "stream",
     "text": [
      "Ultralytics YOLOv8.2.48 🚀 Python-3.10.13 torch-2.1.2 CUDA:0 (Tesla T4, 15095MiB)\n",
      "\u001b[34m\u001b[1mengine/trainer: \u001b[0mtask=detect, mode=train, model=yolov8n.pt, data=/kaggle/working/MOT17/mot17_data.yaml, epochs=30, time=None, patience=100, batch=-1, imgsz=640, save=True, save_period=-1, cache=False, device=None, workers=8, project=models/yolo, name=yolov8s_mot17_det, exist_ok=False, pretrained=True, optimizer=auto, verbose=True, seed=0, deterministic=True, single_cls=False, rect=False, cos_lr=False, close_mosaic=10, resume=False, amp=True, fraction=1.0, profile=False, freeze=None, multi_scale=False, overlap_mask=True, mask_ratio=4, dropout=0.0, val=True, split=val, save_json=False, save_hybrid=False, conf=None, iou=0.7, max_det=300, half=False, dnn=False, plots=True, source=None, vid_stride=1, stream_buffer=False, visualize=False, augment=False, agnostic_nms=False, classes=None, retina_masks=False, embed=None, show=False, save_frames=False, save_txt=False, save_conf=False, save_crop=False, show_labels=True, show_conf=True, show_boxes=True, line_width=None, format=torchscript, keras=False, optimize=False, int8=False, dynamic=False, simplify=False, opset=None, workspace=4, nms=False, lr0=0.01, lrf=0.01, momentum=0.937, weight_decay=0.0005, warmup_epochs=3.0, warmup_momentum=0.8, warmup_bias_lr=0.1, box=7.5, cls=0.5, dfl=1.5, pose=12.0, kobj=1.0, label_smoothing=0.0, nbs=64, hsv_h=0.015, hsv_s=0.7, hsv_v=0.4, degrees=0.0, translate=0.1, scale=0.5, shear=0.0, perspective=0.0, flipud=0.0, fliplr=0.5, bgr=0.0, mosaic=1.0, mixup=0.0, copy_paste=0.0, auto_augment=randaugment, erasing=0.4, crop_fraction=1.0, cfg=None, tracker=botsort.yaml, save_dir=models/yolo/yolov8s_mot17_det\n"
     ]
    },
    {
     "name": "stderr",
     "output_type": "stream",
     "text": [
      "\n"
     ]
    },
    {
     "name": "stdout",
     "output_type": "stream",
     "text": [
      "Downloading https://ultralytics.com/assets/Arial.ttf to '/root/.config/Ultralytics/Arial.ttf'...\n"
     ]
    },
    {
     "name": "stderr",
     "output_type": "stream",
     "text": [
      "100%|██████████| 755k/755k [00:00<00:00, 29.8MB/s]\n",
      "2024-07-04 07:47:07,806\tINFO util.py:124 -- Outdated packages:\n",
      "  ipywidgets==7.7.1 found, needs ipywidgets>=8\n",
      "Run `pip install -U ipywidgets`, then restart the notebook server for rich notebook output.\n",
      "2024-07-04 07:47:08,740\tINFO util.py:124 -- Outdated packages:\n",
      "  ipywidgets==7.7.1 found, needs ipywidgets>=8\n",
      "Run `pip install -U ipywidgets`, then restart the notebook server for rich notebook output.\n"
     ]
    },
    {
     "name": "stdout",
     "output_type": "stream",
     "text": [
      "Overriding model.yaml nc=80 with nc=1\n",
      "\n",
      "                   from  n    params  module                                       arguments                     \n",
      "  0                  -1  1       464  ultralytics.nn.modules.conv.Conv             [3, 16, 3, 2]                 \n",
      "  1                  -1  1      4672  ultralytics.nn.modules.conv.Conv             [16, 32, 3, 2]                \n",
      "  2                  -1  1      7360  ultralytics.nn.modules.block.C2f             [32, 32, 1, True]             \n",
      "  3                  -1  1     18560  ultralytics.nn.modules.conv.Conv             [32, 64, 3, 2]                \n",
      "  4                  -1  2     49664  ultralytics.nn.modules.block.C2f             [64, 64, 2, True]             \n",
      "  5                  -1  1     73984  ultralytics.nn.modules.conv.Conv             [64, 128, 3, 2]               \n",
      "  6                  -1  2    197632  ultralytics.nn.modules.block.C2f             [128, 128, 2, True]           \n",
      "  7                  -1  1    295424  ultralytics.nn.modules.conv.Conv             [128, 256, 3, 2]              \n",
      "  8                  -1  1    460288  ultralytics.nn.modules.block.C2f             [256, 256, 1, True]           \n",
      "  9                  -1  1    164608  ultralytics.nn.modules.block.SPPF            [256, 256, 5]                 \n",
      " 10                  -1  1         0  torch.nn.modules.upsampling.Upsample         [None, 2, 'nearest']          \n",
      " 11             [-1, 6]  1         0  ultralytics.nn.modules.conv.Concat           [1]                           \n",
      " 12                  -1  1    148224  ultralytics.nn.modules.block.C2f             [384, 128, 1]                 \n",
      " 13                  -1  1         0  torch.nn.modules.upsampling.Upsample         [None, 2, 'nearest']          \n",
      " 14             [-1, 4]  1         0  ultralytics.nn.modules.conv.Concat           [1]                           \n",
      " 15                  -1  1     37248  ultralytics.nn.modules.block.C2f             [192, 64, 1]                  \n",
      " 16                  -1  1     36992  ultralytics.nn.modules.conv.Conv             [64, 64, 3, 2]                \n",
      " 17            [-1, 12]  1         0  ultralytics.nn.modules.conv.Concat           [1]                           \n",
      " 18                  -1  1    123648  ultralytics.nn.modules.block.C2f             [192, 128, 1]                 \n",
      " 19                  -1  1    147712  ultralytics.nn.modules.conv.Conv             [128, 128, 3, 2]              \n",
      " 20             [-1, 9]  1         0  ultralytics.nn.modules.conv.Concat           [1]                           \n",
      " 21                  -1  1    493056  ultralytics.nn.modules.block.C2f             [384, 256, 1]                 \n",
      " 22        [15, 18, 21]  1    751507  ultralytics.nn.modules.head.Detect           [1, [64, 128, 256]]           \n",
      "Model summary: 225 layers, 3011043 parameters, 3011027 gradients, 8.2 GFLOPs\n",
      "\n",
      "Transferred 319/355 items from pretrained weights\n",
      "\u001b[34m\u001b[1mTensorBoard: \u001b[0mStart with 'tensorboard --logdir models/yolo/yolov8s_mot17_det', view at http://localhost:6006/\n",
      "Freezing layer 'model.22.dfl.conv.weight'\n",
      "\u001b[34m\u001b[1mAMP: \u001b[0mrunning Automatic Mixed Precision (AMP) checks with YOLOv8n...\n",
      "\u001b[34m\u001b[1mAMP: \u001b[0mchecks passed ✅\n",
      "\u001b[34m\u001b[1mAutoBatch: \u001b[0mComputing optimal batch size for imgsz=640 at 60.0% CUDA memory utilization.\n",
      "\u001b[34m\u001b[1mAutoBatch: \u001b[0mCUDA:0 (Tesla T4) 14.74G total, 0.23G reserved, 0.07G allocated, 14.45G free\n",
      "      Params      GFLOPs  GPU_mem (GB)  forward (ms) backward (ms)                   input                  output\n",
      "     3011043       8.194         0.315         31.15         99.47        (1, 3, 640, 640)                    list\n",
      "     3011043       16.39         0.298         20.56         50.12        (2, 3, 640, 640)                    list\n",
      "     3011043       32.78         0.533         20.45         51.76        (4, 3, 640, 640)                    list\n",
      "     3011043       65.55         1.063         28.89         60.85        (8, 3, 640, 640)                    list\n",
      "     3011043       131.1         2.003         42.21         69.86       (16, 3, 640, 640)                    list\n",
      "\u001b[34m\u001b[1mAutoBatch: \u001b[0mUsing batch-size 72 for CUDA:0 8.87G/14.74G (60%) ✅\n"
     ]
    },
    {
     "name": "stderr",
     "output_type": "stream",
     "text": [
      "\u001b[34m\u001b[1mtrain: \u001b[0mScanning /kaggle/working/MOT17/train/labels... 5316 images, 0 backgrounds, 0 corrupt: 100%|██████████| 5316/5316 [00:04<00:00, 1089.86it/s]\n"
     ]
    },
    {
     "name": "stdout",
     "output_type": "stream",
     "text": [
      "\u001b[34m\u001b[1mtrain: \u001b[0mNew cache created: /kaggle/working/MOT17/train/labels.cache\n",
      "\u001b[34m\u001b[1malbumentations: \u001b[0mBlur(p=0.01, blur_limit=(3, 7)), MedianBlur(p=0.01, blur_limit=(3, 7)), ToGray(p=0.01), CLAHE(p=0.01, clip_limit=(1, 4.0), tile_grid_size=(8, 8))\n"
     ]
    },
    {
     "name": "stderr",
     "output_type": "stream",
     "text": [
      "/opt/conda/lib/python3.10/multiprocessing/popen_fork.py:66: RuntimeWarning: os.fork() was called. os.fork() is incompatible with multithreaded code, and JAX is multithreaded, so this will likely lead to a deadlock.\n",
      "  self.pid = os.fork()\n",
      "\u001b[34m\u001b[1mval: \u001b[0mScanning /kaggle/working/MOT17/test/labels... 5908 images, 11 backgrounds, 0 corrupt: 100%|██████████| 5919/5919 [00:06<00:00, 977.44it/s]\n"
     ]
    },
    {
     "name": "stdout",
     "output_type": "stream",
     "text": [
      "\u001b[34m\u001b[1mval: \u001b[0mNew cache created: /kaggle/working/MOT17/test/labels.cache\n",
      "Plotting labels to models/yolo/yolov8s_mot17_det/labels.jpg... \n",
      "\u001b[34m\u001b[1moptimizer:\u001b[0m 'optimizer=auto' found, ignoring 'lr0=0.01' and 'momentum=0.937' and determining best 'optimizer', 'lr0' and 'momentum' automatically... \n",
      "\u001b[34m\u001b[1moptimizer:\u001b[0m AdamW(lr=0.002, momentum=0.9) with parameter groups 57 weight(decay=0.0), 64 weight(decay=0.0005625000000000001), 63 bias(decay=0.0)\n",
      "\u001b[34m\u001b[1mTensorBoard: \u001b[0mmodel graph visualization added ✅\n",
      "Image sizes 640 train, 640 val\n",
      "Using 2 dataloader workers\n",
      "Logging results to \u001b[1mmodels/yolo/yolov8s_mot17_det\u001b[0m\n",
      "Starting training for 30 epochs...\n",
      "\n",
      "      Epoch    GPU_mem   box_loss   cls_loss   dfl_loss  Instances       Size\n"
     ]
    },
    {
     "name": "stderr",
     "output_type": "stream",
     "text": [
      "       1/30      14.5G      1.281      1.342      1.008       1507        640: 100%|██████████| 74/74 [01:16<00:00,  1.03s/it]\n",
      "                 Class     Images  Instances      Box(P          R      mAP50  mAP50-95): 100%|██████████| 42/42 [00:44<00:00,  1.05s/it]\n"
     ]
    },
    {
     "name": "stdout",
     "output_type": "stream",
     "text": [
      "                   all       5919     110141      0.973      0.489      0.818      0.506\n",
      "\n",
      "      Epoch    GPU_mem   box_loss   cls_loss   dfl_loss  Instances       Size\n"
     ]
    },
    {
     "name": "stderr",
     "output_type": "stream",
     "text": [
      "       2/30      14.6G      1.108     0.7444     0.9482       1224        640: 100%|██████████| 74/74 [01:09<00:00,  1.06it/s]\n",
      "                 Class     Images  Instances      Box(P          R      mAP50  mAP50-95): 100%|██████████| 42/42 [00:42<00:00,  1.01s/it]\n"
     ]
    },
    {
     "name": "stdout",
     "output_type": "stream",
     "text": [
      "                   all       5919     110141       0.74      0.571      0.657      0.419\n",
      "\n",
      "      Epoch    GPU_mem   box_loss   cls_loss   dfl_loss  Instances       Size\n"
     ]
    },
    {
     "name": "stderr",
     "output_type": "stream",
     "text": [
      "       3/30      12.7G      1.075     0.6885     0.9411       1347        640: 100%|██████████| 74/74 [01:09<00:00,  1.07it/s]\n",
      "                 Class     Images  Instances      Box(P          R      mAP50  mAP50-95): 100%|██████████| 42/42 [00:41<00:00,  1.01it/s]\n"
     ]
    },
    {
     "name": "stdout",
     "output_type": "stream",
     "text": [
      "                   all       5919     110141      0.841      0.778      0.855      0.507\n",
      "\n",
      "      Epoch    GPU_mem   box_loss   cls_loss   dfl_loss  Instances       Size\n"
     ]
    },
    {
     "name": "stderr",
     "output_type": "stream",
     "text": [
      "       4/30      13.3G      1.036     0.6456     0.9324       1473        640: 100%|██████████| 74/74 [01:10<00:00,  1.05it/s]\n",
      "                 Class     Images  Instances      Box(P          R      mAP50  mAP50-95): 100%|██████████| 42/42 [00:41<00:00,  1.01it/s]\n"
     ]
    },
    {
     "name": "stdout",
     "output_type": "stream",
     "text": [
      "                   all       5919     110141       0.84      0.746      0.813      0.479\n",
      "\n",
      "      Epoch    GPU_mem   box_loss   cls_loss   dfl_loss  Instances       Size\n"
     ]
    },
    {
     "name": "stderr",
     "output_type": "stream",
     "text": [
      "       5/30      12.2G     0.9775     0.5975     0.9182       1500        640: 100%|██████████| 74/74 [01:09<00:00,  1.06it/s]\n",
      "                 Class     Images  Instances      Box(P          R      mAP50  mAP50-95): 100%|██████████| 42/42 [00:42<00:00,  1.00s/it]\n"
     ]
    },
    {
     "name": "stdout",
     "output_type": "stream",
     "text": [
      "                   all       5919     110141      0.855      0.786      0.876      0.551\n",
      "\n",
      "      Epoch    GPU_mem   box_loss   cls_loss   dfl_loss  Instances       Size\n"
     ]
    },
    {
     "name": "stderr",
     "output_type": "stream",
     "text": [
      "       6/30      12.1G     0.9522     0.5702     0.9119       1198        640: 100%|██████████| 74/74 [01:10<00:00,  1.05it/s]\n",
      "                 Class     Images  Instances      Box(P          R      mAP50  mAP50-95): 100%|██████████| 42/42 [00:40<00:00,  1.03it/s]\n"
     ]
    },
    {
     "name": "stdout",
     "output_type": "stream",
     "text": [
      "                   all       5919     110141      0.864      0.737      0.843      0.543\n",
      "\n",
      "      Epoch    GPU_mem   box_loss   cls_loss   dfl_loss  Instances       Size\n"
     ]
    },
    {
     "name": "stderr",
     "output_type": "stream",
     "text": [
      "       7/30      14.2G     0.9275     0.5541     0.9059       1420        640: 100%|██████████| 74/74 [01:09<00:00,  1.06it/s]\n",
      "                 Class     Images  Instances      Box(P          R      mAP50  mAP50-95): 100%|██████████| 42/42 [00:41<00:00,  1.01it/s]\n"
     ]
    },
    {
     "name": "stdout",
     "output_type": "stream",
     "text": [
      "                   all       5919     110141      0.874      0.803      0.879      0.589\n",
      "\n",
      "      Epoch    GPU_mem   box_loss   cls_loss   dfl_loss  Instances       Size\n"
     ]
    },
    {
     "name": "stderr",
     "output_type": "stream",
     "text": [
      "       8/30      12.7G     0.8922     0.5254      0.899       1383        640: 100%|██████████| 74/74 [01:09<00:00,  1.06it/s]\n",
      "                 Class     Images  Instances      Box(P          R      mAP50  mAP50-95): 100%|██████████| 42/42 [00:41<00:00,  1.01it/s]\n"
     ]
    },
    {
     "name": "stdout",
     "output_type": "stream",
     "text": [
      "                   all       5919     110141      0.879      0.774      0.875       0.56\n",
      "\n",
      "      Epoch    GPU_mem   box_loss   cls_loss   dfl_loss  Instances       Size\n"
     ]
    },
    {
     "name": "stderr",
     "output_type": "stream",
     "text": [
      "       9/30        14G     0.8815     0.5191     0.8947       1272        640: 100%|██████████| 74/74 [01:09<00:00,  1.06it/s]\n",
      "                 Class     Images  Instances      Box(P          R      mAP50  mAP50-95): 100%|██████████| 42/42 [00:41<00:00,  1.00it/s]\n"
     ]
    },
    {
     "name": "stdout",
     "output_type": "stream",
     "text": [
      "                   all       5919     110141      0.881      0.774      0.873      0.581\n",
      "\n",
      "      Epoch    GPU_mem   box_loss   cls_loss   dfl_loss  Instances       Size\n"
     ]
    },
    {
     "name": "stderr",
     "output_type": "stream",
     "text": [
      "      10/30      12.9G     0.8607     0.5073     0.8896       1177        640: 100%|██████████| 74/74 [01:10<00:00,  1.06it/s]\n",
      "                 Class     Images  Instances      Box(P          R      mAP50  mAP50-95): 100%|██████████| 42/42 [00:40<00:00,  1.03it/s]\n"
     ]
    },
    {
     "name": "stdout",
     "output_type": "stream",
     "text": [
      "                   all       5919     110141      0.879      0.779      0.881      0.592\n",
      "\n",
      "      Epoch    GPU_mem   box_loss   cls_loss   dfl_loss  Instances       Size\n"
     ]
    },
    {
     "name": "stderr",
     "output_type": "stream",
     "text": [
      "      11/30      15.5G     0.8431     0.4943     0.8857       1324        640: 100%|██████████| 74/74 [01:09<00:00,  1.06it/s]\n",
      "                 Class     Images  Instances      Box(P          R      mAP50  mAP50-95): 100%|██████████| 42/42 [00:41<00:00,  1.01it/s]\n"
     ]
    },
    {
     "name": "stdout",
     "output_type": "stream",
     "text": [
      "                   all       5919     110141      0.889       0.82      0.907      0.609\n",
      "\n",
      "      Epoch    GPU_mem   box_loss   cls_loss   dfl_loss  Instances       Size\n"
     ]
    },
    {
     "name": "stderr",
     "output_type": "stream",
     "text": [
      "      12/30        13G     0.8237     0.4815     0.8807       1474        640: 100%|██████████| 74/74 [01:09<00:00,  1.06it/s]\n",
      "                 Class     Images  Instances      Box(P          R      mAP50  mAP50-95): 100%|██████████| 42/42 [00:41<00:00,  1.00it/s]\n"
     ]
    },
    {
     "name": "stdout",
     "output_type": "stream",
     "text": [
      "                   all       5919     110141      0.889      0.798       0.89      0.593\n",
      "\n",
      "      Epoch    GPU_mem   box_loss   cls_loss   dfl_loss  Instances       Size\n"
     ]
    },
    {
     "name": "stderr",
     "output_type": "stream",
     "text": [
      "      13/30      12.6G     0.8182     0.4756       0.88       1330        640: 100%|██████████| 74/74 [01:09<00:00,  1.06it/s]\n",
      "                 Class     Images  Instances      Box(P          R      mAP50  mAP50-95): 100%|██████████| 42/42 [00:41<00:00,  1.02it/s]\n"
     ]
    },
    {
     "name": "stdout",
     "output_type": "stream",
     "text": [
      "                   all       5919     110141       0.89      0.784      0.884      0.611\n",
      "\n",
      "      Epoch    GPU_mem   box_loss   cls_loss   dfl_loss  Instances       Size\n"
     ]
    },
    {
     "name": "stderr",
     "output_type": "stream",
     "text": [
      "      14/30      12.7G     0.8072     0.4667     0.8763       1536        640: 100%|██████████| 74/74 [01:09<00:00,  1.06it/s]\n",
      "                 Class     Images  Instances      Box(P          R      mAP50  mAP50-95): 100%|██████████| 42/42 [00:41<00:00,  1.01it/s]\n"
     ]
    },
    {
     "name": "stdout",
     "output_type": "stream",
     "text": [
      "                   all       5919     110141      0.883      0.803      0.886      0.595\n",
      "\n",
      "      Epoch    GPU_mem   box_loss   cls_loss   dfl_loss  Instances       Size\n"
     ]
    },
    {
     "name": "stderr",
     "output_type": "stream",
     "text": [
      "      15/30      12.3G     0.7876     0.4586     0.8743       1420        640: 100%|██████████| 74/74 [01:10<00:00,  1.05it/s]\n",
      "                 Class     Images  Instances      Box(P          R      mAP50  mAP50-95): 100%|██████████| 42/42 [00:41<00:00,  1.01it/s]\n"
     ]
    },
    {
     "name": "stdout",
     "output_type": "stream",
     "text": [
      "                   all       5919     110141      0.895      0.783      0.884      0.618\n",
      "\n",
      "      Epoch    GPU_mem   box_loss   cls_loss   dfl_loss  Instances       Size\n"
     ]
    },
    {
     "name": "stderr",
     "output_type": "stream",
     "text": [
      "      16/30      12.1G     0.7782     0.4551     0.8726       1463        640: 100%|██████████| 74/74 [01:11<00:00,  1.04it/s]\n",
      "                 Class     Images  Instances      Box(P          R      mAP50  mAP50-95): 100%|██████████| 42/42 [00:40<00:00,  1.03it/s]\n"
     ]
    },
    {
     "name": "stdout",
     "output_type": "stream",
     "text": [
      "                   all       5919     110141       0.89      0.804      0.893      0.599\n",
      "\n",
      "      Epoch    GPU_mem   box_loss   cls_loss   dfl_loss  Instances       Size\n"
     ]
    },
    {
     "name": "stderr",
     "output_type": "stream",
     "text": [
      "      17/30      12.2G     0.7718     0.4496     0.8714       1394        640: 100%|██████████| 74/74 [01:10<00:00,  1.05it/s]\n",
      "                 Class     Images  Instances      Box(P          R      mAP50  mAP50-95): 100%|██████████| 42/42 [00:41<00:00,  1.00it/s]\n"
     ]
    },
    {
     "name": "stdout",
     "output_type": "stream",
     "text": [
      "                   all       5919     110141      0.894      0.796       0.89      0.619\n",
      "\n",
      "      Epoch    GPU_mem   box_loss   cls_loss   dfl_loss  Instances       Size\n"
     ]
    },
    {
     "name": "stderr",
     "output_type": "stream",
     "text": [
      "      18/30      12.6G     0.7598     0.4397     0.8683       1384        640: 100%|██████████| 74/74 [01:09<00:00,  1.06it/s]\n",
      "                 Class     Images  Instances      Box(P          R      mAP50  mAP50-95): 100%|██████████| 42/42 [00:41<00:00,  1.01it/s]\n"
     ]
    },
    {
     "name": "stdout",
     "output_type": "stream",
     "text": [
      "                   all       5919     110141      0.894        0.8      0.892      0.619\n",
      "\n",
      "      Epoch    GPU_mem   box_loss   cls_loss   dfl_loss  Instances       Size\n"
     ]
    },
    {
     "name": "stderr",
     "output_type": "stream",
     "text": [
      "      19/30      12.2G      0.744     0.4334     0.8652       1374        640: 100%|██████████| 74/74 [01:09<00:00,  1.06it/s]\n",
      "                 Class     Images  Instances      Box(P          R      mAP50  mAP50-95): 100%|██████████| 42/42 [00:41<00:00,  1.00it/s]\n"
     ]
    },
    {
     "name": "stdout",
     "output_type": "stream",
     "text": [
      "                   all       5919     110141      0.891      0.803      0.896      0.616\n",
      "\n",
      "      Epoch    GPU_mem   box_loss   cls_loss   dfl_loss  Instances       Size\n"
     ]
    },
    {
     "name": "stderr",
     "output_type": "stream",
     "text": [
      "      20/30      12.5G      0.736     0.4266     0.8614       1519        640: 100%|██████████| 74/74 [01:10<00:00,  1.05it/s]\n",
      "                 Class     Images  Instances      Box(P          R      mAP50  mAP50-95): 100%|██████████| 42/42 [00:41<00:00,  1.00it/s]\n"
     ]
    },
    {
     "name": "stdout",
     "output_type": "stream",
     "text": [
      "                   all       5919     110141        0.9      0.784      0.884      0.612\n",
      "Closing dataloader mosaic\n",
      "\u001b[34m\u001b[1malbumentations: \u001b[0mBlur(p=0.01, blur_limit=(3, 7)), MedianBlur(p=0.01, blur_limit=(3, 7)), ToGray(p=0.01), CLAHE(p=0.01, clip_limit=(1, 4.0), tile_grid_size=(8, 8))\n"
     ]
    },
    {
     "name": "stderr",
     "output_type": "stream",
     "text": [
      "/opt/conda/lib/python3.10/multiprocessing/popen_fork.py:66: RuntimeWarning: os.fork() was called. os.fork() is incompatible with multithreaded code, and JAX is multithreaded, so this will likely lead to a deadlock.\n",
      "  self.pid = os.fork()\n",
      "/opt/conda/lib/python3.10/multiprocessing/popen_fork.py:66: RuntimeWarning: os.fork() was called. os.fork() is incompatible with multithreaded code, and JAX is multithreaded, so this will likely lead to a deadlock.\n",
      "  self.pid = os.fork()\n"
     ]
    },
    {
     "name": "stdout",
     "output_type": "stream",
     "text": [
      "\n",
      "      Epoch    GPU_mem   box_loss   cls_loss   dfl_loss  Instances       Size\n"
     ]
    },
    {
     "name": "stderr",
     "output_type": "stream",
     "text": [
      "      21/30      9.54G      0.711     0.4137     0.8477        875        640: 100%|██████████| 74/74 [01:11<00:00,  1.04it/s]\n",
      "                 Class     Images  Instances      Box(P          R      mAP50  mAP50-95): 100%|██████████| 42/42 [00:41<00:00,  1.00it/s]\n"
     ]
    },
    {
     "name": "stdout",
     "output_type": "stream",
     "text": [
      "                   all       5919     110141      0.891      0.796      0.887      0.607\n",
      "\n",
      "      Epoch    GPU_mem   box_loss   cls_loss   dfl_loss  Instances       Size\n"
     ]
    },
    {
     "name": "stderr",
     "output_type": "stream",
     "text": [
      "      22/30      9.44G     0.6874     0.3975     0.8445        707        640: 100%|██████████| 74/74 [01:06<00:00,  1.12it/s]\n",
      "                 Class     Images  Instances      Box(P          R      mAP50  mAP50-95): 100%|██████████| 42/42 [00:41<00:00,  1.00it/s]\n"
     ]
    },
    {
     "name": "stdout",
     "output_type": "stream",
     "text": [
      "                   all       5919     110141      0.896      0.795      0.892      0.626\n",
      "\n",
      "      Epoch    GPU_mem   box_loss   cls_loss   dfl_loss  Instances       Size\n"
     ]
    },
    {
     "name": "stderr",
     "output_type": "stream",
     "text": [
      "      23/30      9.42G     0.6752     0.3912     0.8416        634        640: 100%|██████████| 74/74 [01:05<00:00,  1.12it/s]\n",
      "                 Class     Images  Instances      Box(P          R      mAP50  mAP50-95): 100%|██████████| 42/42 [00:41<00:00,  1.00it/s]\n"
     ]
    },
    {
     "name": "stdout",
     "output_type": "stream",
     "text": [
      "                   all       5919     110141      0.899      0.784      0.876      0.598\n",
      "\n",
      "      Epoch    GPU_mem   box_loss   cls_loss   dfl_loss  Instances       Size\n"
     ]
    },
    {
     "name": "stderr",
     "output_type": "stream",
     "text": [
      "      24/30      9.44G     0.6659     0.3854     0.8387        804        640: 100%|██████████| 74/74 [01:06<00:00,  1.11it/s]\n",
      "                 Class     Images  Instances      Box(P          R      mAP50  mAP50-95): 100%|██████████| 42/42 [00:41<00:00,  1.01it/s]\n"
     ]
    },
    {
     "name": "stdout",
     "output_type": "stream",
     "text": [
      "                   all       5919     110141      0.904      0.781      0.883      0.608\n",
      "\n",
      "      Epoch    GPU_mem   box_loss   cls_loss   dfl_loss  Instances       Size\n"
     ]
    },
    {
     "name": "stderr",
     "output_type": "stream",
     "text": [
      "      25/30      9.56G     0.6485     0.3749     0.8361        751        640: 100%|██████████| 74/74 [01:06<00:00,  1.12it/s]\n",
      "                 Class     Images  Instances      Box(P          R      mAP50  mAP50-95): 100%|██████████| 42/42 [00:42<00:00,  1.01s/it]\n"
     ]
    },
    {
     "name": "stdout",
     "output_type": "stream",
     "text": [
      "                   all       5919     110141      0.895        0.8      0.887      0.617\n",
      "\n",
      "      Epoch    GPU_mem   box_loss   cls_loss   dfl_loss  Instances       Size\n"
     ]
    },
    {
     "name": "stderr",
     "output_type": "stream",
     "text": [
      "      26/30      9.46G     0.6412     0.3701      0.834        730        640: 100%|██████████| 74/74 [01:05<00:00,  1.12it/s]\n",
      "                 Class     Images  Instances      Box(P          R      mAP50  mAP50-95): 100%|██████████| 42/42 [00:42<00:00,  1.00s/it]\n"
     ]
    },
    {
     "name": "stdout",
     "output_type": "stream",
     "text": [
      "                   all       5919     110141      0.897      0.788      0.889      0.617\n",
      "\n",
      "      Epoch    GPU_mem   box_loss   cls_loss   dfl_loss  Instances       Size\n"
     ]
    },
    {
     "name": "stderr",
     "output_type": "stream",
     "text": [
      "      27/30      9.44G     0.6311     0.3642     0.8326        758        640: 100%|██████████| 74/74 [01:06<00:00,  1.11it/s]\n",
      "                 Class     Images  Instances      Box(P          R      mAP50  mAP50-95): 100%|██████████| 42/42 [00:42<00:00,  1.00s/it]\n"
     ]
    },
    {
     "name": "stdout",
     "output_type": "stream",
     "text": [
      "                   all       5919     110141      0.902      0.782      0.885      0.619\n",
      "\n",
      "      Epoch    GPU_mem   box_loss   cls_loss   dfl_loss  Instances       Size\n"
     ]
    },
    {
     "name": "stderr",
     "output_type": "stream",
     "text": [
      "      28/30      9.42G      0.614     0.3551     0.8304        736        640: 100%|██████████| 74/74 [01:05<00:00,  1.13it/s]\n",
      "                 Class     Images  Instances      Box(P          R      mAP50  mAP50-95): 100%|██████████| 42/42 [00:41<00:00,  1.01it/s]\n"
     ]
    },
    {
     "name": "stdout",
     "output_type": "stream",
     "text": [
      "                   all       5919     110141      0.904       0.79      0.889      0.619\n",
      "\n",
      "      Epoch    GPU_mem   box_loss   cls_loss   dfl_loss  Instances       Size\n"
     ]
    },
    {
     "name": "stderr",
     "output_type": "stream",
     "text": [
      "      29/30      9.51G     0.6064      0.351     0.8277        721        640: 100%|██████████| 74/74 [01:06<00:00,  1.11it/s]\n",
      "                 Class     Images  Instances      Box(P          R      mAP50  mAP50-95): 100%|██████████| 42/42 [00:41<00:00,  1.01it/s]\n"
     ]
    },
    {
     "name": "stdout",
     "output_type": "stream",
     "text": [
      "                   all       5919     110141      0.905      0.789      0.892      0.625\n",
      "\n",
      "      Epoch    GPU_mem   box_loss   cls_loss   dfl_loss  Instances       Size\n"
     ]
    },
    {
     "name": "stderr",
     "output_type": "stream",
     "text": [
      "      30/30      9.56G     0.5999      0.346     0.8268        797        640: 100%|██████████| 74/74 [01:05<00:00,  1.12it/s]\n",
      "                 Class     Images  Instances      Box(P          R      mAP50  mAP50-95): 100%|██████████| 42/42 [00:41<00:00,  1.02it/s]\n"
     ]
    },
    {
     "name": "stdout",
     "output_type": "stream",
     "text": [
      "                   all       5919     110141      0.899      0.788      0.888       0.62\n",
      "\n",
      "30 epochs completed in 0.941 hours.\n",
      "Optimizer stripped from models/yolo/yolov8s_mot17_det/weights/last.pt, 6.2MB\n",
      "Optimizer stripped from models/yolo/yolov8s_mot17_det/weights/best.pt, 6.2MB\n",
      "\n",
      "Validating models/yolo/yolov8s_mot17_det/weights/best.pt...\n",
      "Ultralytics YOLOv8.2.48 🚀 Python-3.10.13 torch-2.1.2 CUDA:0 (Tesla T4, 15095MiB)\n",
      "Model summary (fused): 168 layers, 3005843 parameters, 0 gradients, 8.1 GFLOPs\n"
     ]
    },
    {
     "name": "stderr",
     "output_type": "stream",
     "text": [
      "                 Class     Images  Instances      Box(P          R      mAP50  mAP50-95): 100%|██████████| 42/42 [01:01<00:00,  1.45s/it]\n"
     ]
    },
    {
     "name": "stdout",
     "output_type": "stream",
     "text": [
      "                   all       5919     110141      0.896      0.795      0.892      0.626\n",
      "Speed: 0.1ms preprocess, 1.4ms inference, 0.0ms loss, 1.0ms postprocess per image\n",
      "Results saved to \u001b[1mmodels/yolo/yolov8s_mot17_det\u001b[0m\n"
     ]
    }
   ],
   "source": [
    "model = YOLO('yolov8n.pt')\n",
    "\n",
    "epoch = 30\n",
    "batch_size = -1\n",
    "img_size = 640\n",
    "project_name = 'models/yolo'\n",
    "name = 'yolov8s_mot17_det'\n",
    "\n",
    "result = model.train(\n",
    "    data=yolo_yaml_path,\n",
    "    epochs=epoch,\n",
    "    batch=batch_size,\n",
    "    imgsz=img_size,\n",
    "    project=project_name,\n",
    "    name=name)"
   ]
  }
 ],
 "metadata": {
  "accelerator": "GPU",
  "colab": {
   "gpuType": "T4",
   "provenance": []
  },
  "kaggle": {
   "accelerator": "nvidiaTeslaT4",
   "dataSources": [],
   "dockerImageVersionId": 30733,
   "isGpuEnabled": true,
   "isInternetEnabled": true,
   "language": "python",
   "sourceType": "notebook"
  },
  "kernelspec": {
   "display_name": "Python 3",
   "language": "python",
   "name": "python3"
  },
  "language_info": {
   "codemirror_mode": {
    "name": "ipython",
    "version": 3
   },
   "file_extension": ".py",
   "mimetype": "text/x-python",
   "name": "python",
   "nbconvert_exporter": "python",
   "pygments_lexer": "ipython3",
   "version": "3.10.13"
  },
  "papermill": {
   "default_parameters": {},
   "duration": 3801.346845,
   "end_time": "2024-07-04T08:45:29.492901",
   "environment_variables": {},
   "exception": null,
   "input_path": "__notebook__.ipynb",
   "output_path": "__notebook__.ipynb",
   "parameters": {},
   "start_time": "2024-07-04T07:42:08.146056",
   "version": "2.5.0"
  }
 },
 "nbformat": 4,
 "nbformat_minor": 5
}
